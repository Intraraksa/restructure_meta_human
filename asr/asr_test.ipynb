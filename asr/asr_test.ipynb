{
 "cells": [
  {
   "cell_type": "code",
   "execution_count": 24,
   "id": "a693761c-b793-4b95-9cf0-7ff89c379f3d",
   "metadata": {},
   "outputs": [],
   "source": [
    "# ใช้บันทึกเสียงเป็น WAV file\n",
    "import sounddevice as sd\n",
    "from scipy.io.wavfile import write\n",
    "\n",
    "fs = 44100  # Sample rate\n",
    "seconds = 4  # Duration of recording\n",
    "\n",
    "myrecording = sd.rec(int(seconds * fs), samplerate=fs, channels=1)\n",
    "sd.wait()  # Wait until recording is finished\n",
    "write('output.wav', fs, myrecording)  # Save as WAV file "
   ]
  },
  {
   "cell_type": "code",
   "execution_count": 1,
   "id": "2e6aa398-c3c9-412a-b61f-b6b759b352fb",
   "metadata": {},
   "outputs": [],
   "source": [
    "from asr_module import ASR"
   ]
  },
  {
   "cell_type": "code",
   "execution_count": 2,
   "id": "66897bec-31f2-440b-b05d-b5f2c852fff7",
   "metadata": {},
   "outputs": [],
   "source": [
    "asr = ASR()"
   ]
  },
  {
   "cell_type": "code",
   "execution_count": 3,
   "id": "5366c8d0-20c7-45db-a256-ea9cd5664ce5",
   "metadata": {},
   "outputs": [
    {
     "name": "stdout",
     "output_type": "stream",
     "text": [
      "0:00:01.149884\n"
     ]
    },
    {
     "data": {
      "text/plain": [
       "'|เสียง||ครั้ง|ที่|หนึ่ง|ใช้|สำหรับ|เอ|เอช|อาร์|โมเดว|ครับ|'"
      ]
     },
     "execution_count": 3,
     "metadata": {},
     "output_type": "execute_result"
    }
   ],
   "source": [
    "asr.asr(\"output.wav\") "
   ]
  },
  {
   "cell_type": "code",
   "execution_count": null,
   "id": "81a15f42-af7b-455f-b269-08a93b706c27",
   "metadata": {},
   "outputs": [],
   "source": []
  }
 ],
 "metadata": {
  "kernelspec": {
   "display_name": "Python 3 (ipykernel)",
   "language": "python",
   "name": "python3"
  },
  "language_info": {
   "codemirror_mode": {
    "name": "ipython",
    "version": 3
   },
   "file_extension": ".py",
   "mimetype": "text/x-python",
   "name": "python",
   "nbconvert_exporter": "python",
   "pygments_lexer": "ipython3",
   "version": "3.8.13"
  }
 },
 "nbformat": 4,
 "nbformat_minor": 5
}
