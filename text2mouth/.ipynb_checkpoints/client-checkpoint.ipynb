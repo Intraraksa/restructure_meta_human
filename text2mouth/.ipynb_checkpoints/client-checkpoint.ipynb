{
 "cells": [
  {
   "cell_type": "code",
   "execution_count": 1,
   "id": "4e1908d2-fb7d-457c-a1a9-749079b6fd7e",
   "metadata": {},
   "outputs": [
    {
     "ename": "ModuleNotFoundError",
     "evalue": "No module named 'text2mouth_module'",
     "output_type": "error",
     "traceback": [
      "\u001b[1;31m---------------------------------------------------------------------------\u001b[0m",
      "\u001b[1;31mModuleNotFoundError\u001b[0m                       Traceback (most recent call last)",
      "Input \u001b[1;32mIn [1]\u001b[0m, in \u001b[0;36m<cell line: 13>\u001b[1;34m()\u001b[0m\n\u001b[0;32m     11\u001b[0m \u001b[38;5;28;01mimport\u001b[39;00m \u001b[38;5;21;01mpickle\u001b[39;00m\n\u001b[0;32m     12\u001b[0m \u001b[38;5;28;01mfrom\u001b[39;00m \u001b[38;5;21;01mallosaurus\u001b[39;00m\u001b[38;5;21;01m.\u001b[39;00m\u001b[38;5;21;01mapp\u001b[39;00m \u001b[38;5;28;01mimport\u001b[39;00m read_recognizer\n\u001b[1;32m---> 13\u001b[0m \u001b[38;5;28;01mfrom\u001b[39;00m \u001b[38;5;21;01mtext2mouth_module\u001b[39;00m \u001b[38;5;28;01mimport\u001b[39;00m Text2MouthShape\n\u001b[0;32m     15\u001b[0m \u001b[38;5;66;03m# set path\u001b[39;00m\n\u001b[0;32m     16\u001b[0m \u001b[38;5;66;03m# path_root = \"C:/Users/titip/Desktop/Project_samutDownGrade_Build_V0.3/project_samut_Data/StreamingAssets/python/\"\u001b[39;00m\n\u001b[0;32m     17\u001b[0m \u001b[38;5;66;03m# path_root = \"C:/Work/Botnoi/Project_samutDownGrade_Build_V0.3/project_samut_Data/StreamingAssets/python\"\u001b[39;00m\n\u001b[0;32m     18\u001b[0m t2m \u001b[38;5;241m=\u001b[39m Text2MouthShape()\n",
      "\u001b[1;31mModuleNotFoundError\u001b[0m: No module named 'text2mouth_module'"
     ]
    }
   ],
   "source": [
    "\n",
    "# -*- coding: utf-8 -*-\n",
    "import os\n",
    "import numpy as np\n",
    "import socketio\n",
    "import requests\n",
    "import re\n",
    "import json\n",
    "import librosa\n",
    "import soundfile as sf\n",
    "import time\n",
    "import pickle\n",
    "from allosaurus.app import read_recognizer\n",
    "from text2mouth_module import Text2MouthShape\n",
    "\n",
    "# set path\n",
    "# path_root = \"C:/Users/titip/Desktop/Project_samutDownGrade_Build_V0.3/project_samut_Data/StreamingAssets/python/\"\n",
    "# path_root = \"C:/Work/Botnoi/Project_samutDownGrade_Build_V0.3/project_samut_Data/StreamingAssets/python\"\n",
    "t2m = Text2MouthShape()\n",
    "path_root = os.getcwd()\n",
    "path_src = os.path.join(path_root, \"src\")\n",
    "\n",
    "#create client socket\n",
    "sio = socketio.Client()\n",
    "\n",
    "@sio.event\n",
    "def connect():\n",
    "    print('connection established')\n",
    "\n",
    "@sio.event\n",
    "def disconnect():\n",
    "    print('disconnected from server')\n",
    "\n",
    "# get message to trigger speak -> msg_txt2blendshape function\n",
    "@sio.event\n",
    "def recv_speak(data):\n",
    "    print('receive ', data)\n",
    "    t2m.msg_txt2blendshape(data)\n",
    "# connect to socket server\n",
    "sio.connect('http://localhost:8080')      \n",
    "\n",
    "# wait for receive socket\n",
    "sio.wait()"
   ]
  },
  {
   "cell_type": "code",
   "execution_count": null,
   "id": "558e2a64-c40f-4f4e-96a2-6af5f70ce33e",
   "metadata": {},
   "outputs": [],
   "source": []
  }
 ],
 "metadata": {
  "kernelspec": {
   "display_name": "Python 3 (ipykernel)",
   "language": "python",
   "name": "python3"
  },
  "language_info": {
   "codemirror_mode": {
    "name": "ipython",
    "version": 3
   },
   "file_extension": ".py",
   "mimetype": "text/x-python",
   "name": "python",
   "nbconvert_exporter": "python",
   "pygments_lexer": "ipython3",
   "version": "3.8.13"
  }
 },
 "nbformat": 4,
 "nbformat_minor": 5
}
