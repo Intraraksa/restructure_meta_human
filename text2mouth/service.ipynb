{
 "cells": [
  {
   "cell_type": "code",
   "execution_count": null,
   "id": "3c7c3540-1e37-4913-9112-da6dbe105e9f",
   "metadata": {},
   "outputs": [
    {
     "name": "stderr",
     "output_type": "stream",
     "text": [
      "(22828) wsgi starting up on http://0.0.0.0:8080\n",
      "(22828) accepted ('127.0.0.1', 54504)\n",
      "127.0.0.1 - - [01/Jul/2022 15:10:01] \"GET /socket.io/?transport=polling&EIO=4&t=1656662999.1913826 HTTP/1.1\" 200 278 0.003979\n",
      "(22828) accepted ('127.0.0.1', 54506)\n"
     ]
    },
    {
     "name": "stdout",
     "output_type": "stream",
     "text": [
      "connect  gFDQr6cU8ydtP54nAAAB\n"
     ]
    }
   ],
   "source": [
    "import eventlet\n",
    "import socketio\n",
    "\n",
    "sio = socketio.Server()\n",
    "app = socketio.WSGIApp(sio, static_files={\n",
    "    '/': {'content_type': 'text/html', 'filename': 'index.html'}\n",
    "})\n",
    "\n",
    "@sio.event\n",
    "def connect(sid, environ):\n",
    "    print('connect ', sid)\n",
    "    sio.emit('recv_speak','อาคารผู้ป่วยนอก ชั้น 1 ข้างบันได')\n",
    "\n",
    "@sio.event\n",
    "def my_message1(sid, data):\n",
    "    print('response', data)\n",
    "    return data\n",
    "\n",
    "@sio.event\n",
    "def disconnect(sid):\n",
    "    print('disconnect ', sid)\n",
    "\n",
    "if __name__ == '__main__':\n",
    "    eventlet.wsgi.server(eventlet.listen(('', 8080)), app)"
   ]
  },
  {
   "cell_type": "code",
   "execution_count": null,
   "id": "8ddec40f-b7ea-4fdf-876c-66fdabc9dd24",
   "metadata": {},
   "outputs": [],
   "source": []
  }
 ],
 "metadata": {
  "kernelspec": {
   "display_name": "Python 3 (ipykernel)",
   "language": "python",
   "name": "python3"
  },
  "language_info": {
   "codemirror_mode": {
    "name": "ipython",
    "version": 3
   },
   "file_extension": ".py",
   "mimetype": "text/x-python",
   "name": "python",
   "nbconvert_exporter": "python",
   "pygments_lexer": "ipython3",
   "version": "3.8.13"
  }
 },
 "nbformat": 4,
 "nbformat_minor": 5
}
