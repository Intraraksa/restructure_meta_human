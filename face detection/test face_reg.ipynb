{
 "cells": [
  {
   "cell_type": "code",
   "execution_count": 3,
   "id": "9b779907-1831-4b8e-921c-13e63d08477d",
   "metadata": {},
   "outputs": [
    {
     "name": "stderr",
     "output_type": "stream",
     "text": [
      "C:\\Users\\n_int\\anaconda3\\envs\\face_module\\lib\\site-packages\\tqdm\\auto.py:22: TqdmWarning: IProgress not found. Please update jupyter and ipywidgets. See https://ipywidgets.readthedocs.io/en/stable/user_install.html\n",
      "  from .autonotebook import tqdm as notebook_tqdm\n"
     ]
    }
   ],
   "source": [
    "from facedec_module import Face_dec"
   ]
  },
  {
   "cell_type": "code",
   "execution_count": 4,
   "id": "ed2c65b6-9aeb-4463-904a-204edb0c7143",
   "metadata": {},
   "outputs": [],
   "source": [
    "face_dec = Face_dec()"
   ]
  },
  {
   "cell_type": "code",
   "execution_count": null,
   "id": "adc85170-1817-4aa5-87b1-f659a5e8127f",
   "metadata": {},
   "outputs": [],
   "source": [
    "face_dec.playVideo(video_file=0)"
   ]
  },
  {
   "cell_type": "code",
   "execution_count": null,
   "id": "d285b65e-4493-4f49-9a72-6e244c4d4342",
   "metadata": {},
   "outputs": [],
   "source": []
  }
 ],
 "metadata": {
  "kernelspec": {
   "display_name": "Python 3 (ipykernel)",
   "language": "python",
   "name": "python3"
  },
  "language_info": {
   "codemirror_mode": {
    "name": "ipython",
    "version": 3
   },
   "file_extension": ".py",
   "mimetype": "text/x-python",
   "name": "python",
   "nbconvert_exporter": "python",
   "pygments_lexer": "ipython3",
   "version": "3.8.13"
  }
 },
 "nbformat": 4,
 "nbformat_minor": 5
}
