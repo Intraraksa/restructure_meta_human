{
 "cells": [
  {
   "cell_type": "code",
   "execution_count": 1,
   "id": "d262ac57-07d8-4d65-8864-bf8bfb7e9e71",
   "metadata": {},
   "outputs": [],
   "source": [
    "from smartcard_module import SmartCard"
   ]
  },
  {
   "cell_type": "code",
   "execution_count": 2,
   "id": "e71a5b5f-3377-459c-a264-7238285da3e2",
   "metadata": {},
   "outputs": [],
   "source": [
    "reader = SmartCard()"
   ]
  },
  {
   "cell_type": "code",
   "execution_count": 3,
   "id": "7875480a-3e81-4ddd-9577-b7914da3cbf3",
   "metadata": {},
   "outputs": [],
   "source": [
    "reader.chg_search_stat(True)"
   ]
  },
  {
   "cell_type": "code",
   "execution_count": 4,
   "id": "48b4d820-c487-4c40-a986-3728b635aa81",
   "metadata": {},
   "outputs": [
    {
     "data": {
      "text/plain": [
       "'3102002265996'"
      ]
     },
     "execution_count": 4,
     "metadata": {},
     "output_type": "execute_result"
    }
   ],
   "source": [
    "reader.read_smartcard()"
   ]
  },
  {
   "cell_type": "code",
   "execution_count": 7,
   "id": "26d5c1a8-97bd-40b3-9bb1-f8ac6028a375",
   "metadata": {},
   "outputs": [
    {
     "data": {
      "text/plain": [
       "[True]"
      ]
     },
     "execution_count": 7,
     "metadata": {},
     "output_type": "execute_result"
    }
   ],
   "source": [
    "reader.search_cid"
   ]
  },
  {
   "cell_type": "code",
   "execution_count": 1,
   "id": "de371108-f20d-4df0-b5ff-6e02ca71d24a",
   "metadata": {},
   "outputs": [],
   "source": [
    "from smartcard.System import readers\n",
    "from smartcard.util import HexListToBinString, toHexString, toBytes"
   ]
  },
  {
   "cell_type": "code",
   "execution_count": 2,
   "id": "132ab0ff-4a92-4f54-bca9-874dca2e3559",
   "metadata": {},
   "outputs": [],
   "source": [
    "# APDU key\n",
    "SELECT = [0x00, 0xA4, 0x04, 0x00, 0x08]\n",
    "THAI_CARD = [0xA0, 0x00, 0x00, 0x00, 0x54, 0x48, 0x00, 0x01]\n",
    "CMD_CID = [0x80, 0xb0, 0x00, 0x04, 0x02, 0x00, 0x0d]"
   ]
  },
  {
   "cell_type": "code",
   "execution_count": null,
   "id": "72f96ac8-d72a-45e9-aac8-2d770c8efe59",
   "metadata": {},
   "outputs": [],
   "source": []
  }
 ],
 "metadata": {
  "kernelspec": {
   "display_name": "Python 3 (ipykernel)",
   "language": "python",
   "name": "python3"
  },
  "language_info": {
   "codemirror_mode": {
    "name": "ipython",
    "version": 3
   },
   "file_extension": ".py",
   "mimetype": "text/x-python",
   "name": "python",
   "nbconvert_exporter": "python",
   "pygments_lexer": "ipython3",
   "version": "3.10.4"
  }
 },
 "nbformat": 4,
 "nbformat_minor": 5
}
