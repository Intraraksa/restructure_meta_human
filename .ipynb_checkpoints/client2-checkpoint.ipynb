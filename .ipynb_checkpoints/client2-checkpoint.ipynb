{
 "cells": [
  {
   "cell_type": "raw",
   "id": "86a4e2cb-9e51-4dc9-ae2f-196b6e38b77b",
   "metadata": {},
   "source": [
    "import socketio"
   ]
  },
  {
   "cell_type": "code",
   "execution_count": 1,
   "id": "a22994be-5ebb-4034-93ff-a19eb9b2adea",
   "metadata": {},
   "outputs": [],
   "source": [
    "import socketio\n",
    "\n",
    "sio = socketio.Client()"
   ]
  },
  {
   "cell_type": "code",
   "execution_count": 2,
   "id": "a5406261-2589-41d5-ab33-60ecc2705a88",
   "metadata": {},
   "outputs": [
    {
     "name": "stdout",
     "output_type": "stream",
     "text": [
      "connection established\n",
      "recieve : Love\n"
     ]
    }
   ],
   "source": [
    "@sio.event\n",
    "def connect():\n",
    "    print('connection established')\n",
    "    \n",
    "@sio.event\n",
    "def send_message2(data):\n",
    "    print('sendall :',data)\n",
    "    sio.emit('my_message2', data)\n",
    "    \n",
    "@sio.event\n",
    "def rev_message2(data):\n",
    "    print('recieve :',data)\n",
    "    # sio.emit('my_message1', data)\n",
    "    \n",
    "@sio.event\n",
    "def disconnect():\n",
    "    print('disconnected from server')\n",
    "\n",
    "sio.connect('http://localhost:5000')"
   ]
  },
  {
   "cell_type": "code",
   "execution_count": 3,
   "id": "e0f7c085-c394-4200-875a-fdc350eec5e3",
   "metadata": {},
   "outputs": [
    {
     "name": "stdout",
     "output_type": "stream",
     "text": [
      "sendall : Love you 2\n"
     ]
    }
   ],
   "source": [
    "send_message2(\"Love you 2\")"
   ]
  },
  {
   "cell_type": "code",
   "execution_count": 4,
   "id": "de092fed-0ace-4ee5-9ffe-476259219c57",
   "metadata": {},
   "outputs": [
    {
     "name": "stdout",
     "output_type": "stream",
     "text": [
      "sendall : Fuck u\n"
     ]
    }
   ],
   "source": [
    "message(\"Fuck u\")"
   ]
  },
  {
   "cell_type": "code",
   "execution_count": 5,
   "id": "0072f6e2-e5ef-482b-9f07-01a6532357aa",
   "metadata": {},
   "outputs": [
    {
     "name": "stdout",
     "output_type": "stream",
     "text": [
      "sendall : Hello\n"
     ]
    }
   ],
   "source": [
    "message(\"Hello\")"
   ]
  },
  {
   "cell_type": "code",
   "execution_count": null,
   "id": "a79a6d1c-fb81-4d5c-902f-c19660f6b8f9",
   "metadata": {},
   "outputs": [],
   "source": []
  }
 ],
 "metadata": {
  "kernelspec": {
   "display_name": "Python 3 (ipykernel)",
   "language": "python",
   "name": "python3"
  },
  "language_info": {
   "codemirror_mode": {
    "name": "ipython",
    "version": 3
   },
   "file_extension": ".py",
   "mimetype": "text/x-python",
   "name": "python",
   "nbconvert_exporter": "python",
   "pygments_lexer": "ipython3",
   "version": "3.8.13"
  }
 },
 "nbformat": 4,
 "nbformat_minor": 5
}
