{
 "cells": [
  {
   "cell_type": "code",
   "execution_count": null,
   "id": "98e066f8-2b46-45fe-81f4-f950f5f3efa5",
   "metadata": {},
   "outputs": [
    {
     "name": "stdout",
     "output_type": "stream",
     "text": [
      "connection established\n",
      "message received with  Love\n",
      "disconnected from server\n",
      "connection established\n",
      "message received with  Love\n"
     ]
    }
   ],
   "source": [
    "import socketio\n",
    "\n",
    "sio = socketio.Client()\n",
    "\n",
    "@sio.event\n",
    "def connect():\n",
    "    print('connection established')\n",
    "    my_message(\"Love\")\n",
    "@sio.event\n",
    "def my_message(data):\n",
    "    print('message received with ', data)\n",
    "    sio.emit('my response', {'response': data})\n",
    "\n",
    "@sio.event\n",
    "def disconnect():\n",
    "    print('disconnected from server')\n",
    "\n",
    "sio.connect('http://localhost:5000')\n",
    "sio.wait()"
   ]
  },
  {
   "cell_type": "code",
   "execution_count": 5,
   "id": "0c4f67c3-7b1c-45f3-9df5-24f556389719",
   "metadata": {},
   "outputs": [
    {
     "name": "stdout",
     "output_type": "stream",
     "text": [
      "message received with  Love\n"
     ]
    }
   ],
   "source": [
    "my_message(\"Love\")"
   ]
  },
  {
   "cell_type": "code",
   "execution_count": null,
   "id": "23b6d161-fdbd-4a2b-9edc-dcbddaed7a5e",
   "metadata": {},
   "outputs": [],
   "source": []
  }
 ],
 "metadata": {
  "kernelspec": {
   "display_name": "Python 3 (ipykernel)",
   "language": "python",
   "name": "python3"
  },
  "language_info": {
   "codemirror_mode": {
    "name": "ipython",
    "version": 3
   },
   "file_extension": ".py",
   "mimetype": "text/x-python",
   "name": "python",
   "nbconvert_exporter": "python",
   "pygments_lexer": "ipython3",
   "version": "3.8.13"
  }
 },
 "nbformat": 4,
 "nbformat_minor": 5
}
