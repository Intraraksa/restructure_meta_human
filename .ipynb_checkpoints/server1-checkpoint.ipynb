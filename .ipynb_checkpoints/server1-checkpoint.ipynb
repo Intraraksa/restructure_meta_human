{
 "cells": [
  {
   "cell_type": "code",
   "execution_count": null,
   "id": "ae18682c-0763-4bc2-97da-c60d528d3566",
   "metadata": {},
   "outputs": [
    {
     "name": "stderr",
     "output_type": "stream",
     "text": [
      "(13152) wsgi starting up on http://0.0.0.0:5000\n",
      "(13152) accepted ('127.0.0.1', 64701)\n",
      "127.0.0.1 - - [09/Jun/2022 13:19:36] \"GET /socket.io/?transport=polling&EIO=4&t=1654755574.0883446 HTTP/1.1\" 200 278 0.001955\n",
      "(13152) accepted ('127.0.0.1', 64703)\n"
     ]
    },
    {
     "name": "stdout",
     "output_type": "stream",
     "text": [
      "connect  h2N96ZOpxkVZSaFJAAAB\n"
     ]
    }
   ],
   "source": [
    "import eventlet\n",
    "import socketio\n",
    "\n",
    "sio = socketio.Server()\n",
    "app = socketio.WSGIApp(sio, static_files={\n",
    "    '/': {'content_type': 'text/html', 'filename': 'index.html'}\n",
    "})\n",
    "\n",
    "@sio.event\n",
    "def connect(sid, environ):\n",
    "    print('connect ', sid)\n",
    "    # my_message(data)\n",
    "\n",
    "@sio.event\n",
    "def my_message(sid, data):\n",
    "    print('response', data)\n",
    "    return data\n",
    "\n",
    "@sio.event\n",
    "def disconnect(sid):\n",
    "    print('disconnect ', sid)\n",
    "\n",
    "if __name__ == '__main__':\n",
    "    eventlet.wsgi.server(eventlet.listen(('', 5000)), app)"
   ]
  },
  {
   "cell_type": "code",
   "execution_count": null,
   "id": "9d7cef5e-48af-41bc-9d36-e636e8d537df",
   "metadata": {},
   "outputs": [],
   "source": [
    "my_message()"
   ]
  },
  {
   "cell_type": "code",
   "execution_count": null,
   "id": "460ddd41-1b45-4674-b8b4-adf7fa1ce140",
   "metadata": {},
   "outputs": [],
   "source": []
  }
 ],
 "metadata": {
  "kernelspec": {
   "display_name": "Python 3 (ipykernel)",
   "language": "python",
   "name": "python3"
  },
  "language_info": {
   "codemirror_mode": {
    "name": "ipython",
    "version": 3
   },
   "file_extension": ".py",
   "mimetype": "text/x-python",
   "name": "python",
   "nbconvert_exporter": "python",
   "pygments_lexer": "ipython3",
   "version": "3.8.13"
  }
 },
 "nbformat": 4,
 "nbformat_minor": 5
}
